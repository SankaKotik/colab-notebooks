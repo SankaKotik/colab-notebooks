{
  "cells": [
    {
      "cell_type": "markdown",
      "metadata": {
        "id": "YNHzm6fHlpxu"
      },
      "source": [
        "[Страница нейронки](https://github.com/haoheliu/versatile_audio_super_resolution)"
      ]
    },
    {
      "cell_type": "code",
      "execution_count": null,
      "metadata": {
        "id": "C_n7L-imTd33"
      },
      "outputs": [],
      "source": [
        "# @title **Установить AudioSR** { display-mode: \"form\" }\n",
        "from IPython.display import clear_output, Audio, display\n",
        "from ipywidgets import Button\n",
        "import os\n",
        "import fnmatch\n",
        "\n",
        "!git clone https://github.com/Bebra777228/ASR.git\n",
        "\n",
        "# Optional\n",
        "!conda create -n audiosr python=3.9; conda activate audiosr\n",
        "# Install AudioLDM\n",
        "!pip3 install audiosr==0.0.7\n",
        "\n",
        "os.makedirs('input_audio', exist_ok=True)\n",
        "\n",
        "clear_output()\n",
        "Button(description=\"\\u2714 Готово\", button_style=\"success\")"
      ]
    },
    {
      "cell_type": "code",
      "source": [
        "# @title Обработка длинного аудио (>30s) + стерео { display-mode: \"form\" }\n",
        "\n",
        "#@markdown ---\n",
        "\n",
        "#@markdown **Загрузите ваше аудио в папку input**\n",
        "\n",
        "#@markdown *Обратите внимание, файл должен иметь формат .mp3 и не должен содержать кириллицы, пробелов и спецсимволов*\n",
        "\n",
        "#@markdown ---\n",
        "\n",
        "#@markdown **Выберите модель:**\n",
        "model = \"basic\" # @param [\"basic\", \"speech\"] {allow-input: true}\n",
        "\n",
        "#@markdown **Количество шагов**\n",
        "ddim = 50 # @param {type:\"slider\", min:10, max:250, step:5}\n",
        "\n",
        "#@markdown ---\n",
        "\n",
        "#@markdown **Размер сегмента**\n",
        "segment = 10 # @param {type:\"slider\", min:5, max:30, step:1}\n",
        "\n",
        "#@markdown ---\n",
        "\n",
        "#clear_output()\n",
        "\n",
        "def find_latest_wav_file(path, pattern='*.wav'):\n",
        "    matches = []\n",
        "\n",
        "    for root, dirnames, filenames in os.walk(path):\n",
        "        for filename in fnmatch.filter(filenames, pattern):\n",
        "            matches.append(os.path.join(root, filename))\n",
        "\n",
        "    if matches:\n",
        "        latest_file = max(matches, key=os.path.getctime)\n",
        "        return latest_file\n",
        "    else:\n",
        "        return None\n",
        "\n",
        "# Создаем папку для обработанных аудиофайлов\n",
        "os.makedirs('preprocess_audio', exist_ok=True)\n",
        "os.makedirs('inlist_files', exist_ok=True)\n",
        "os.makedirs('output_process', exist_ok=True)\n",
        "os.makedirs('outlist_files', exist_ok=True)\n",
        "os.makedirs('output_audio', exist_ok=True)\n",
        "\n",
        "# Получаем список всех mp3 файлов в папке input_audio\n",
        "sourcefiles = [f for f in os.listdir('input_audio') if f.endswith('.mp3')]\n",
        "\n",
        "for n, sourcefile in enumerate (sourcefiles, start=1):\n",
        "    procfile = '{:05}'.format (n)\n",
        "\n",
        "    # Разрезаем mp3 файл на куски по 10 секунд\n",
        "    os.system (f'ffmpeg -hide_banner -i input_audio/{sourcefile} -filter_complex \"[0:a]channelsplit=channel_layout=stereo[left][right]\" \\\n",
        "    -map_metadata -1 -fflags +bitexact -ar 48000 -ac 1 -f segment -segment_time {segment} -map \"[left]\" preprocess_audio/{procfile}_%03d_left.wav \\\n",
        "    -map_metadata -1 -fflags +bitexact -ar 48000 -ac 1 -f segment -segment_time {segment} -map \"[right]\" preprocess_audio/{procfile}_%03d_right.wav \\\n",
        "    2>> ffmpeg_logs.txt')\n",
        "\n",
        "    segments = sorted ([f for f in os.listdir('preprocess_audio') if f.endswith('.wav')])\n",
        "\n",
        "    # Перечисляем файлы в список для AudioSR\n",
        "    with open (f'inlist_files/{procfile}_list.txt', 'w+') as input_segments_list:\n",
        "        for segment_file in segments:\n",
        "            input_segments_list.write (f\"preprocess_audio/{segment_file}\\n\")\n",
        "\n",
        "    # Основная обработка\n",
        "    !audiosr -il inlist_files/{procfile}_list.txt -s output_process/ --model_name {model} --ddim_steps {ddim} -gs 1 --suffix \"\"\n",
        "\n",
        "    # Перечисляем файлы в список для FFmpeg\n",
        "    with open (f'outlist_files/{procfile}_list_left.txt', 'w+') as leftlist, open (f'outlist_files/{procfile}_list_right.txt', 'w+') as rightlist:\n",
        "        for f in [find_latest_wav_file ('output_process', pattern = segment) for segment in segments]:\n",
        "            if f.endswith('_left.wav'):\n",
        "                leftlist.write (f\"file '../{f}'\\n\")\n",
        "            if f.endswith('_right.wav'):\n",
        "                rightlist.write (f\"file '../{f}'\\n\")\n",
        "\n",
        "    # Соединяем файлы обратно\n",
        "    os.system(f'ffmpeg -hide_banner -f concat -safe 0 -i \"outlist_files/{procfile}_list_left.txt\" -f concat -safe 0 -i \"outlist_files/{procfile}_list_right.txt\" \\\n",
        "    -filter_complex \"[0:a][1:a]amerge=inputs=2[a]\" -map_metadata -1 -fflags +bitexact -ar 48000 -map \"[a]\" \\\n",
        "    output_audio/{sourcefile.replace(\".mp3\", \".flac\")} 2>> ffmpeg_logs.txt')\n"
      ],
      "metadata": {
        "id": "llhLH5m_wMVz"
      },
      "execution_count": null,
      "outputs": []
    },
    {
      "cell_type": "code",
      "source": [
        "# @title Очистка { display-mode: \"form\" }\n",
        "#@markdown **Выполнить в случае ошибки**\n",
        "\n",
        "!rm -rf preprocess_audio/*\n",
        "!rm -rf inlist_files/*\n",
        "!rm -rf output_process/*\n",
        "!rm -rf outlist_files/*\n",
        "!rm -rf output_audio/*\n",
        "!rm ffmpeg_logs.txt"
      ],
      "metadata": {
        "id": "-5o_uQD31ISE"
      },
      "execution_count": 39,
      "outputs": []
    }
  ],
  "metadata": {
    "accelerator": "GPU",
    "colab": {
      "gpuType": "T4",
      "provenance": []
    },
    "kernelspec": {
      "display_name": "Python 3",
      "name": "python3"
    },
    "language_info": {
      "name": "python"
    }
  },
  "nbformat": 4,
  "nbformat_minor": 0
}